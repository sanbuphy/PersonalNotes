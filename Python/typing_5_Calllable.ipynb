{
 "cells": [
  {
   "cell_type": "markdown",
   "metadata": {},
   "source": [
    "# Python - typing 模块 —— Callable\n",
    "## Callable\n",
    "是一个可调用对象类型"
   ]
  },
  {
   "cell_type": "code",
   "execution_count": null,
   "metadata": {},
   "outputs": [],
   "source": [
    "from typing import Callable\n",
    "# 最简单的函数\n",
    "def print_name(name: str):\n",
    "    print(name)\n",
    "\n",
    "# 判断函数是否可调用\n",
    "print(isinstance(print_name, Callable))\n",
    "\n",
    "x = 1\n",
    "print(isinstance(x, Callable))\n"
   ]
  },
  {
   "cell_type": "code",
   "execution_count": null,
   "metadata": {},
   "outputs": [],
   "source": [
    "def print_name(name: str):\n",
    "    print(name)\n",
    "\n",
    "\n",
    "# Callable 作为函数参数使用，其实只是做一个类型检查的作用，检查传入的参数值 get_func 是否为可调用对象,\n",
    "# 如果类型不匹配，则会报错！\n",
    "def get_name(get_func: Callable[[str], None]):\n",
    "    return get_func\n",
    "\n",
    "\n",
    "vars = get_name(print_name)\n",
    "vars(\"test\") # vars 是函数 print_name\n",
    "\n",
    "# 等价写法，其实就是将函数作为参数传入，但是没有类型检查\n",
    "def get_name_test(func):\n",
    "    return func\n",
    "\n",
    "vars2 = get_name_test(print_name)\n",
    "vars2(\"小菠萝\")\n",
    "\n",
    "# Callable  作为函数返回值使用，其实只是做一个类型检查的作用，看看返回值是否为可调用对象\n",
    "def get_name_return() -> Callable[[str], None]:\n",
    "    return print_name\n",
    "\n",
    "vars = get_name_return()\n",
    "vars(\"test\")\n",
    "\n",
    "# 等价写法，相当于直接返回一个函数对象\n",
    "def get_name_test():\n",
    "    return print_name\n",
    "\n",
    "vars2 = get_name_test()\n",
    "vars2(\"小菠萝\")"
   ]
  }
 ],
 "metadata": {
  "kernelspec": {
   "display_name": "Python 3.7.10 64-bit",
   "language": "python",
   "name": "python3"
  },
  "language_info": {
   "codemirror_mode": {
    "name": "ipython",
    "version": 3
   },
   "file_extension": ".py",
   "mimetype": "text/x-python",
   "name": "python",
   "nbconvert_exporter": "python",
   "pygments_lexer": "ipython3",
   "version": "3.7.13"
  },
  "orig_nbformat": 4,
  "vscode": {
   "interpreter": {
    "hash": "fd69f43f58546b570e94fd7eba7b65e6bcc7a5bbc4eab0408017d18902915d69"
   }
  }
 },
 "nbformat": 4,
 "nbformat_minor": 2
}
