{
 "cells": [
  {
   "cell_type": "markdown",
   "metadata": {},
   "source": [
    "[参考：Python编程基础之运算符重载详解](https://www.jb51.net/article/235949.htm)\n",
    "\n",
    "运算符重载是通过实现特定的方法使类的实例对象支持Python的各种内置操作。\n",
    "\n",
    "例如：+运算符是类里提供的__add__这个函数，当调用+实现加法运算的时候，实际上是调用了__add__方法。\n",
    "\n",
    "| 方法 |  说明\t| 何时调用方法 |\n",
    "|  ----  | ----  | ---- |\n",
    "|__add__|\t加法运算 | 对象加法：x+y，x+=y |\n",
    "|__sub__|\t减法运算 | 对象减法：x-y，x-=y |\n",
    "|__mul__|\t乘法运算 | 对象乘法：xy，x=y |\n",
    "|__div__|\t除法运算 | 对象除法：x/y，x/=y |\n",
    "|__getitem__|\t索引，分片 | x[i]、x[i:j]、没有__iter__的for循环等 |\n",
    "|__setitem__|\t索引赋值 | x[i]=值、x[i:j]=序列对象 |\n",
    "|__delitem__|\t索引和分片删除 | del x[i]、del x[i:j] |"
   ]
  },
  {
   "cell_type": "markdown",
   "metadata": {},
   "source": [
    "# 加法运算重载符\n",
    "加法运算是通过调用__add__ 方法完成重载的，当两个实例对象执行加法运算时，自动调用__add__方法。"
   ]
  },
  {
   "cell_type": "code",
   "execution_count": null,
   "metadata": {},
   "outputs": [],
   "source": [
    "# 定义数组类\n",
    "class Array:\n",
    "  def __init__(self, obj):\n",
    "    self.data = obj[:]\n",
    "\n",
    "  # 实现加法运算的重载，将两个列表对应元素想加\n",
    "  def __add__(self, other_obj):\n",
    "    print(\"__add__ call\")\n",
    "    m = len(self.data)\n",
    "    n = len(other_obj.data)\n",
    "    if m != n:\n",
    "      raise IndexError(\"异常-两个数组长度不等！\")\n",
    "    new_list = []\n",
    "    for i in range(m):\n",
    "      new_list.append(self.data[i] + other_obj.data[i])\n",
    "    return Array(new_list)\n",
    "\n",
    "  def __getitem__(self, idx):\n",
    "    print(\"__getitem__ call\")\n",
    "    return self.data[idx]\n",
    "  \n",
    "  def __setitem__(self, idx, value):\n",
    "    print(\"__setitem__ call\")\n",
    "    self.data[idx] = value\n",
    "\n",
    "arr1 = Array([1,2,3])\n",
    "arr2 = Array([4,5,6])\n",
    "arr3 = arr1 + arr2\n",
    "print(arr3)\n",
    "print(arr3[0])\n",
    "arr3[0]=1\n",
    "print(arr3[0])"
   ]
  },
  {
   "cell_type": "markdown",
   "metadata": {},
   "source": [
    "更多内容可以参考\n",
    "[什么是运算符重载，Python可重载运算符有哪些？](http://c.biancheng.net/view/5739.html)"
   ]
  }
 ],
 "metadata": {
  "kernelspec": {
   "display_name": "Python 3.9.12 64-bit",
   "language": "python",
   "name": "python3"
  },
  "language_info": {
   "name": "python",
   "version": "3.9.12"
  },
  "orig_nbformat": 4,
  "vscode": {
   "interpreter": {
    "hash": "36cf16204b8548560b1c020c4e8fb5b57f0e4c58016f52f2d4be01e192833930"
   }
  }
 },
 "nbformat": 4,
 "nbformat_minor": 2
}
