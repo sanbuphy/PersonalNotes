{
 "cells": [
  {
   "cell_type": "markdown",
   "metadata": {},
   "source": [
    "# Python - typing 模块 —— NewType\n",
    "\n",
    "## NewType\n",
    "可以自定义创一个新类型\n",
    "* 主要用于类型检查\n",
    "* NewType(name, tp) 返回一个函数，这个函数返回其原本的值\n",
    "* 静态类型检查器会将新类型看作是原始类型的一个子类\n",
    "* tp 就是原始类型"
   ]
  },
  {
   "cell_type": "code",
   "execution_count": null,
   "metadata": {},
   "outputs": [],
   "source": [
    "# NewType\n",
    "from typing import NewType\n",
    "\n",
    "UserId = NewType('UserId', int)\n",
    "\n",
    "def name_by_id(user_id: UserId) -> str:\n",
    "    print(user_id)\n",
    "\n",
    "UserId('user')  # Fails type check\n",
    "num = UserId(5)  # type: int\n",
    "\n",
    "name_by_id(42)  # Fails type check\n",
    "name_by_id(UserId(42))  # OK\n",
    "print(type(UserId(5)))\n",
    "\n",
    "\n",
    "# 输出结果\n",
    "'''\n",
    "42\n",
    "42\n",
    "<class 'int'>\n",
    "'''\n",
    "# 可以看到 UserId 其实也是 int 类型"
   ]
  },
  {
   "cell_type": "code",
   "execution_count": null,
   "metadata": {},
   "outputs": [],
   "source": [
    "# 使用 UserId 类型做算术运算，得到的是 int 类型数据\n",
    "# 'output' is of type 'int', not 'UserId'\n",
    "output = UserId(23413) + UserId(54341)\n",
    "print(output)\n",
    "print(type(output))\n",
    "\n",
    "'''\n",
    "# 输出结果\n",
    "77754\n",
    "<class 'int'>\n",
    "'''"
   ]
  }
 ],
 "metadata": {
  "kernelspec": {
   "display_name": "Python 3.7.10 64-bit",
   "language": "python",
   "name": "python3"
  },
  "language_info": {
   "codemirror_mode": {
    "name": "ipython",
    "version": 3
   },
   "file_extension": ".py",
   "mimetype": "text/x-python",
   "name": "python",
   "nbconvert_exporter": "python",
   "pygments_lexer": "ipython3",
   "version": "3.7.13"
  },
  "orig_nbformat": 4,
  "vscode": {
   "interpreter": {
    "hash": "fd69f43f58546b570e94fd7eba7b65e6bcc7a5bbc4eab0408017d18902915d69"
   }
  }
 },
 "nbformat": 4,
 "nbformat_minor": 2
}
