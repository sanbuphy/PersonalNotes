{
 "cells": [
  {
   "cell_type": "markdown",
   "metadata": {},
   "source": [
    "# typing —— 类型注解支持\n",
    "typing 是在 python 3.5 才有的模块\n",
    "\n",
    "**前置学习**\n",
    "[Python类型提示：](https://www.cnblogs.com/poloyy/p/15145380.html)\n",
    "\n",
    "**常用类型提示**\n",
    "[常用类型提示](https://www.cnblogs.com/poloyy/p/15150315.html)\n",
    "\n",
    "**类型别名**\n",
    "[类型别名](https://www.cnblogs.com/poloyy/p/15153883.html)\n",
    "\n",
    "**NewType**\n",
    "[NewType](https://www.cnblogs.com/poloyy/p/15153886.html)\n",
    "\n",
    "**Callable**\n",
    "[Callable](https://www.cnblogs.com/poloyy/p/15154008.html)\n",
    "\n",
    "**TypeVar 泛型**\n",
    "[TypeVar 泛型](https://www.cnblogs.com/poloyy/p/15154196.html)\n",
    "\n",
    "**Any Type**\n",
    "[Any Type](https://www.cnblogs.com/poloyy/p/15158613.html)\n",
    "\n",
    "**Union**\n",
    "[Union](https://www.cnblogs.com/poloyy/p/15170066.html)\n",
    "\n",
    "**Optional**\n",
    "[Optional](https://www.cnblogs.com/poloyy/p/15170297.html)"
   ]
  },
  {
   "cell_type": "markdown",
   "metadata": {},
   "source": [
    "# Python - 类型提示 Type Hints\n",
    "\n",
    "## 为什么会有类型提示\n",
    "Python是一种动态类型语言，这意味着我们在编写代码的时候更为自由，运行时不需要指定变量类型\n",
    "但是与此同时 IDE 无法像静态类型语言那样分析代码，及时给我们相应的提示，比如字符串的 split 方法\n",
    "```py\n",
    "def split_str(s):\n",
    "    strs = s.split(\",\")\n",
    "```\n",
    "由于不知道参数 s 是什么类型，所以当你敲  s.  的时候不会出现 split 的语法提示\n",
    "\n",
    "## 解决上述问题，类型提示\n",
    "Python 3.5、3.6 新增了两个特性 PEP 484 和 PEP 526\n",
    "\n",
    "PEP 484：https://www.python.org/dev/peps/pep-0484/\n",
    "PEP 526：https://www.python.org/dev/peps/pep-0526/\n",
    "帮助 IDE 为我们提供更智能的提示\n",
    "\n",
    "**这些新特性不会影响语言本身，只是增加一点提示**"
   ]
  },
  {
   "cell_type": "markdown",
   "metadata": {},
   "source": [
    "## 类型提示分类\n",
    "主要分两个:\n",
    "\n",
    "变量提示：PEP 526 特性加的\n",
    "函数参数提示：PEP 484 特性加的\n",
    "\n",
    "### 变量类型提示\n",
    "**没有使用类型提示**\n",
    "想说明变量的数据类型只能通过注释"
   ]
  },
  {
   "cell_type": "code",
   "execution_count": null,
   "metadata": {},
   "outputs": [],
   "source": [
    "# 'primes' is a list of integers\n",
    "primes = []  # type: List[int]\n",
    "\n",
    "# 'captain' is a string (Note: initial value is a problem)\n",
    "captain = ...  # type: str\n",
    "\n",
    "class Starship:\n",
    "    # 'stats' is a class variable\n",
    "    stats = {}  # type: Dict[str, int]"
   ]
  },
  {
   "cell_type": "code",
   "execution_count": null,
   "metadata": {},
   "outputs": [],
   "source": [
    "# 使用了类型提示\n",
    "from typing import List, ClassVar, Dict\n",
    "\n",
    "# int 变量，默认值为 0\n",
    "num: int = 0\n",
    "\n",
    "# bool 变量，默认值为 True\n",
    "bool_var: bool = True\n",
    "\n",
    "# 字典变量，默认为空\n",
    "dict_var: Dict = {}\n",
    "\n",
    "# 列表变量，且列表元素为 int\n",
    "primes: List[int] = []\n",
    "\n",
    "class Starship:\n",
    "    # 类变量,字典类型,键-字符串,值-整型\n",
    "    stats: ClassVar[Dict[str, int]] = {}\n",
    "\n",
    "    # 实例变量，标注了是一个整型\n",
    "    num: int\n",
    "\n",
    "# 这里会用到 typing 模块，后面会再展开详解\n"
   ]
  },
  {
   "cell_type": "code",
   "execution_count": null,
   "metadata": {},
   "outputs": [],
   "source": [
    "# 假设变量标注了类型，传错了会报错吗？\n",
    "# 它并不会报错，但是会有 warning，是 IDE 的智能语法提示,所以，这个类型提示更像是一个规范约束，并不是一个语法限制\n",
    "\n",
    "# 变量类型提示-元组打包\n",
    "\n",
    "# 正常的元组打包\n",
    "from typing import  Tuple\n",
    "a = 1, 2, 3\n",
    "\n",
    "# 加上类型提示的元组打包\n",
    "t: Tuple[int, ...] = (1, 2, 3)\n",
    "print(t)\n",
    "\n",
    "t = 1, 2, 3\n",
    "print(t)\n",
    "\n",
    "# 输出结果\n",
    "(1, 2, 3)\n",
    "(1, 2, 3)\n",
    "(1, 2, 3)\n",
    "(1, 2, 3)"
   ]
  },
  {
   "cell_type": "code",
   "execution_count": null,
   "metadata": {},
   "outputs": [],
   "source": [
    "# 为什么要加 ...;\n",
    "\n",
    "# 不加的话，元组打包的时候，会有一个 warning 提示 \"Expect type Tuple[int], got Tuple[int, int, int] instead\".\n",
    "\n",
    "# 变量类型提示-元组解包\n",
    "\n",
    "from typing import Optional, List\n",
    "# 正常元组解包\n",
    "message = (1, 2, 3)\n",
    "a, b, c = message\n",
    "print(a, b, c)  # 输出 1 2 3\n",
    "\n",
    "# 加上类型提示的元组解包\n",
    "header: str\n",
    "kind: int\n",
    "body: Optional[List[str]]\n",
    "\n",
    "# 不会 warning 的栗子\n",
    "header, kind, body = (\"str\", 123, [\"1\", \"2\", \"3\"])\n",
    "\n",
    "# 会提示 warning 的栗子\n",
    "header, kind, body = (123, 123, [\"1\", \"2\", \"3\"])\n",
    "\n",
    "# Optional 会在后面讲 typing 的时候详解"
   ]
  },
  {
   "cell_type": "markdown",
   "metadata": {},
   "source": [
    "### 在类里面使用\n",
    "```py\n",
    "class BasicStarship:\n",
    "    captain: str = 'Picard'               # 实例变量，有默认值\n",
    "    damage: int                           # 实例变量，没有默认值\n",
    "    stats: ClassVar[Dict[str, int]] = {}  # 类变量，有默认值\n",
    "```\n",
    "ClassVar\n",
    "* 是 typing 模块的一个特殊类\n",
    "* 它向静态类型检查器指示不应在类实例上设置此变量"
   ]
  },
  {
   "cell_type": "code",
   "execution_count": null,
   "metadata": {},
   "outputs": [],
   "source": [
    "# 函数参数类型提示\n",
    "# demo1\n",
    "from typing import Dict, List\n",
    "\n",
    "# 参数 name 类型提示 str，而函数返回值类型提示也是 str\n",
    "def greeting(name: str) -> str:\n",
    "    return 'Hello ' + name\n",
    "\n",
    "# demo2\n",
    "\n",
    "def greeting(name: str, obj: Dict[str, List[int]]) -> None:\n",
    "    print(name, obj)"
   ]
  }
 ],
 "metadata": {
  "kernelspec": {
   "display_name": "Python 3.7.10 64-bit",
   "language": "python",
   "name": "python3"
  },
  "language_info": {
   "codemirror_mode": {
    "name": "ipython",
    "version": 3
   },
   "file_extension": ".py",
   "mimetype": "text/x-python",
   "name": "python",
   "nbconvert_exporter": "python",
   "pygments_lexer": "ipython3",
   "version": "3.7.10"
  },
  "orig_nbformat": 4,
  "vscode": {
   "interpreter": {
    "hash": "fd69f43f58546b570e94fd7eba7b65e6bcc7a5bbc4eab0408017d18902915d69"
   }
  }
 },
 "nbformat": 4,
 "nbformat_minor": 2
}
