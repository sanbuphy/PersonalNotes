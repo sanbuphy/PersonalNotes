{
 "cells": [
  {
   "cell_type": "markdown",
   "metadata": {},
   "source": [
    "# Python - typing 模块 —— TypeVar 泛型\n",
    "## TypeVar 泛型\n",
    "源码解析使用方式\n",
    "\n",
    "```py\n",
    "class TypeVar(_Final, _Immutable, _root=True):\n",
    "    \"\"\"Type variable.\n",
    "\n",
    "    Usage::\n",
    "\n",
    "      T = TypeVar('T')  # Can be anything\n",
    "      A = TypeVar('A', str, bytes)  # Must be str or bytes\n",
    "```"
   ]
  },
  {
   "cell_type": "code",
   "execution_count": null,
   "metadata": {},
   "outputs": [],
   "source": [
    "from typing import TypeVar\n",
    "# 可以是任意类型\n",
    "T = TypeVar('T')\n",
    "\n",
    "def test(name: T) -> T:\n",
    "    print(name)\n",
    "    return name\n",
    "\n",
    "test(11)\n",
    "test(\"aa\")\n",
    "\n",
    "# 可以是 int，也可以是 str 类型\n",
    "INT_AND_STR = TypeVar('INT_AND_STR', int, str)\n",
    "\n",
    "num1: INT_AND_STR = 1\n",
    "num2: INT_AND_STR = \"123\"\n",
    "print(num1, num2)\n",
    "\n",
    "num3: INT_AND_STR = [] # Warning:Expect type INT_AND_STR, got list instead"
   ]
  },
  {
   "cell_type": "code",
   "execution_count": null,
   "metadata": {},
   "outputs": [],
   "source": [
    "'''\n",
    "自定义泛型类\n",
    "暂时没搞懂这个有什么用，先不管了\n",
    "'''\n",
    "# 自定义泛型\n",
    "from typing import Generic\n",
    "\n",
    "T = TypeVar('T')\n",
    "\n",
    "class UserInfo(Generic[T]):  # 继承Generic[T]，UserInfo[T]也就是有效类型\n",
    "    def __init__(self, v: T):\n",
    "        self.v = v\n",
    "\n",
    "    def get(self):\n",
    "        return self.v\n",
    "\n",
    "l = UserInfo(\"小菠萝\")\n",
    "print(l.get())"
   ]
  }
 ],
 "metadata": {
  "kernelspec": {
   "display_name": "Python 3.7.10 64-bit",
   "language": "python",
   "name": "python3"
  },
  "language_info": {
   "codemirror_mode": {
    "name": "ipython",
    "version": 3
   },
   "file_extension": ".py",
   "mimetype": "text/x-python",
   "name": "python",
   "nbconvert_exporter": "python",
   "pygments_lexer": "ipython3",
   "version": "3.7.13"
  },
  "orig_nbformat": 4,
  "vscode": {
   "interpreter": {
    "hash": "fd69f43f58546b570e94fd7eba7b65e6bcc7a5bbc4eab0408017d18902915d69"
   }
  }
 },
 "nbformat": 4,
 "nbformat_minor": 2
}
