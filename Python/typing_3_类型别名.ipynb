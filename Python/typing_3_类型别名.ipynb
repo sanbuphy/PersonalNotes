{
 "cells": [
  {
   "cell_type": "markdown",
   "metadata": {},
   "source": [
    "# Python - typing 模块 —— 类型别名\n",
    "\n",
    "## 类型别名\n",
    "可以将复杂一点类型给个别名，这样好用一些"
   ]
  },
  {
   "cell_type": "code",
   "execution_count": null,
   "metadata": {},
   "outputs": [],
   "source": [
    "# demo1\n",
    "# 别名\n",
    "from typing import List\n",
    "\n",
    "vector = List[float]\n",
    "\n",
    "var: vector = [1.1, 2.2]\n",
    "# 等价写法\n",
    "var: List[float] = [1.1, 2.2]"
   ]
  },
  {
   "cell_type": "code",
   "execution_count": null,
   "metadata": {},
   "outputs": [],
   "source": [
    "# demo2\n",
    "from typing import List, Dict \n",
    "# float 组成的列表别名\n",
    "vector_list_es = List[float]\n",
    "# 字典别名\n",
    "vector_dict = Dict[str, vector_list_es]\n",
    "# 字典组成列表别名\n",
    "vector_list = List[vector_dict]\n",
    "\n",
    "# vector_list 等价写法，不用别名的话，有点像套娃\n",
    "vector = List[Dict[str, List[float]]]\n",
    "\n",
    "# 函数\n",
    "def scale(scalar: float, vector: vector_list) -> vector_list:\n",
    "    for item in vector:\n",
    "        for key, value in item.items():\n",
    "            item[key] = [scalar * num for num in value]\n",
    "    print(vector)\n",
    "    return vector\n",
    "\n",
    "scale(2.2, [{\"a\": [1, 2, 3]}, {\"b\": [4, 5, 6]}])\n",
    "\n",
    "# 输出结果\n",
    "[{'a': [2.2, 4.4, 6.6000000000000005]}, {'b': [8.8, 11.0, 13.200000000000001]}]"
   ]
  },
  {
   "cell_type": "code",
   "execution_count": null,
   "metadata": {},
   "outputs": [],
   "source": [
    "# 更接近实际应用的 demo3\n",
    "from typing import Tuple, Dict\n",
    "ConnectionOptions = Dict[str, str]\n",
    "Address = Tuple[str, int]\n",
    "Server = Tuple[Address, ConnectionOptions]\n",
    "\n",
    "def broadcast_message(message: str, servers: Server) -> None:\n",
    "    print(message, servers)\n",
    "\n",
    "message = \"发送服务器消息\"\n",
    "servers = ((\"127.0.0.1\", 127), {\"name\": \"服务器1\"})\n",
    "broadcast_message(message, servers)\n",
    "\n",
    "# 输出结果\n",
    "# 发送服务器消息 (('127.0.0.1', 127), {'name': '服务器1'})"
   ]
  }
 ],
 "metadata": {
  "kernelspec": {
   "display_name": "Python 3.7.10 64-bit",
   "language": "python",
   "name": "python3"
  },
  "language_info": {
   "codemirror_mode": {
    "name": "ipython",
    "version": 3
   },
   "file_extension": ".py",
   "mimetype": "text/x-python",
   "name": "python",
   "nbconvert_exporter": "python",
   "pygments_lexer": "ipython3",
   "version": "3.7.10"
  },
  "orig_nbformat": 4,
  "vscode": {
   "interpreter": {
    "hash": "fd69f43f58546b570e94fd7eba7b65e6bcc7a5bbc4eab0408017d18902915d69"
   }
  }
 },
 "nbformat": 4,
 "nbformat_minor": 2
}
