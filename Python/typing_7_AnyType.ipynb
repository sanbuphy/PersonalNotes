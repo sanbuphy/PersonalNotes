{
 "cells": [
  {
   "cell_type": "markdown",
   "metadata": {},
   "source": [
    "# Python - typing 模块 —— Any Type\n",
    "## Any Type\n",
    "* 一种特殊的类型是 Any\n",
    "* 静态类型检查器会将每种类型都视为与 Any 兼容，将 Any 视为与每种类型兼容\n"
   ]
  },
  {
   "cell_type": "code",
   "execution_count": null,
   "metadata": {},
   "outputs": [],
   "source": [
    "# Any\n",
    "from typing import Any\n",
    "\n",
    "a = None  # type: Any\n",
    "a1 = []  # OK\n",
    "a2 = 2  # OK\n",
    "\n",
    "s = ''  # type: str\n",
    "s1 = a  # OK\n",
    "\n",
    "def foo(item: Any) -> int:\n",
    "    # Typechecks; 'item' 可以是任意类型\n",
    "    print(item)\n",
    "    return 1\n",
    "\n",
    "foo(a)\n",
    "foo(a1)\n",
    "foo(a2)\n",
    "foo(s)\n",
    "foo(s1)"
   ]
  },
  {
   "cell_type": "code",
   "execution_count": null,
   "metadata": {},
   "outputs": [],
   "source": [
    "# 隐式使用 Any\n",
    "def legacy_parser(text):\n",
    "    ...\n",
    "    return data\n",
    "\n",
    "# 上述写法等价于下述写法\n",
    "# 所有没有返回类型或参数类型的函数将隐式默认使用 Any\n",
    "def legacy_parser(text: Any) -> Any:\n",
    "    ...\n",
    "    return data"
   ]
  }
 ],
 "metadata": {
  "kernelspec": {
   "display_name": "Python 3.7.10 64-bit",
   "language": "python",
   "name": "python3"
  },
  "language_info": {
   "codemirror_mode": {
    "name": "ipython",
    "version": 3
   },
   "file_extension": ".py",
   "mimetype": "text/x-python",
   "name": "python",
   "nbconvert_exporter": "python",
   "pygments_lexer": "ipython3",
   "version": "3.7.13"
  },
  "orig_nbformat": 4,
  "vscode": {
   "interpreter": {
    "hash": "fd69f43f58546b570e94fd7eba7b65e6bcc7a5bbc4eab0408017d18902915d69"
   }
  }
 },
 "nbformat": 4,
 "nbformat_minor": 2
}
