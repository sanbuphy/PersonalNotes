{
 "cells": [
  {
   "cell_type": "code",
   "execution_count": null,
   "metadata": {},
   "outputs": [],
   "source": [
    "\n",
    "# Generic 类似 cpp 中的 template， 是一个范型的概念\n",
    "from typing import Generic, TypeVar\n",
    "\n",
    "class A:\n",
    "  pass\n",
    "\n",
    "class B(A):\n",
    "  pass\n",
    "\n",
    "T_INT_STR_A = TypeVar(\"T_INT_STR_A\", int, str, B, covariant = True)\n",
    "\n",
    "class MyClass(Generic[T_INT_STR_A]):\n",
    "  def __init__(self, a:T_INT_STR_A):\n",
    "    if(isinstance(a, A)):\n",
    "      print(\"A\")\n",
    "    if(isinstance(a, B)):\n",
    "      print(\"B\")\n",
    "\n",
    "b = B()\n",
    "my_class = MyClass(b)\n"
   ]
  }
 ],
 "metadata": {
  "kernelspec": {
   "display_name": "Python 3.7.10 64-bit",
   "language": "python",
   "name": "python3"
  },
  "language_info": {
   "codemirror_mode": {
    "name": "ipython",
    "version": 3
   },
   "file_extension": ".py",
   "mimetype": "text/x-python",
   "name": "python",
   "nbconvert_exporter": "python",
   "pygments_lexer": "ipython3",
   "version": "3.7.10"
  },
  "orig_nbformat": 4,
  "vscode": {
   "interpreter": {
    "hash": "fd69f43f58546b570e94fd7eba7b65e6bcc7a5bbc4eab0408017d18902915d69"
   }
  }
 },
 "nbformat": 4,
 "nbformat_minor": 2
}
