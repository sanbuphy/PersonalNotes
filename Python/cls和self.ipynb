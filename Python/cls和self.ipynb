{
 "cells": [
  {
   "cell_type": "markdown",
   "metadata": {},
   "source": [
    "# cls 和 self 的区别\n",
    "\n",
    "* cls 表示类本身\n",
    "* self 表示类实例\n",
    "\n",
    "[参考：Python中cls的含义](https://blog.csdn.net/Florine113/article/details/120988102)\n"
   ]
  },
  {
   "cell_type": "code",
   "execution_count": null,
   "metadata": {},
   "outputs": [],
   "source": [
    "class MyClass():\n",
    "    def __init__(self):\n",
    "        self.data = 1\n",
    "\n",
    "    @classmethod # 表示类方法\n",
    "    def build(cls):\n",
    "        # cls 表示类本身\n",
    "        cls.number = 2 # 创建一个类属性\n",
    " \n",
    "c1 = MyClass()\n",
    "c2 = MyClass()\n",
    "c1.build()\n",
    "print(c2.number) # 类属性是公共属性，所以类实例 c2 也可以访问到"
   ]
  }
 ],
 "metadata": {
  "kernelspec": {
   "display_name": "Python 3.7.13 64-bit",
   "language": "python",
   "name": "python3"
  },
  "language_info": {
   "codemirror_mode": {
    "name": "ipython",
    "version": 3
   },
   "file_extension": ".py",
   "mimetype": "text/x-python",
   "name": "python",
   "nbconvert_exporter": "python",
   "pygments_lexer": "ipython3",
   "version": "3.7.13"
  },
  "orig_nbformat": 4,
  "vscode": {
   "interpreter": {
    "hash": "767d51c1340bd893661ea55ea3124f6de3c7a262a8b4abca0554b478b1e2ff90"
   }
  }
 },
 "nbformat": 4,
 "nbformat_minor": 2
}
