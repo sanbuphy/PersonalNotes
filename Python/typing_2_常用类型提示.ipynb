{
 "cells": [
  {
   "cell_type": "markdown",
   "metadata": {},
   "source": [
    "# Python - typing 模块 —— 常用类型提示\n",
    "\n",
    "## 常用类型提示\n",
    "* int,long,float: 整型,长整形,浮点型;\n",
    "* bool,str: 布尔型，字符串类型；\n",
    "* List, Tuple, Dict, Set:列表，元组，字典, 集合;\n",
    "* Iterable,Iterator:可迭代类型，迭代器类型；\n",
    "* Generator：生成器类型；\n",
    "前两行小写的不需要 import，后面三行都需要通过 typing 模块 import 哦 \n",
    "\n",
    "## 常用类型提示例子\n",
    "### 指定函数参数类型"
   ]
  },
  {
   "cell_type": "code",
   "execution_count": null,
   "metadata": {},
   "outputs": [],
   "source": [
    "# 单个参数\n",
    "# name 参数类型为 str\n",
    "def greeting(name: str) :\n",
    "    return \"hello\"\n",
    "\n",
    "# 多个参数\n",
    "# 多个参数，参数类型均不同\n",
    "def add(a: int, string: str, f: float, b: bool or str):\n",
    "    print(a, string, f, b)\n",
    "# bool or str：代表参数 b 可以是布尔类型，也可以是字符串\n",
    " \n",
    "# 指定函数返回的参数类型\n",
    "# 函数返回值指定为字符串\n",
    "def greeting(name: str) -> str:\n",
    "    return \"hello\"\n",
    "\n",
    "# 复杂一点的例子\n",
    "from typing import Tuple, List, Dict\n",
    "\n",
    "# 返回一个 Tuple 类型的数据，第一个元素是 List，第二个元素是 Tuple，第三个元素是 Dict，第四个元素可以是字符串或布尔\n",
    "def add(a: int, string: str, f: float, b: bool or str) -> Tuple[List, Tuple, Dict, str or bool]:\n",
    "    list1 = list(range(a))\n",
    "    tup = (string, string, string)\n",
    "    d = {\"a\": f}\n",
    "    bl = b\n",
    "    return list1, tup, d, bl\n",
    "\n",
    "# 不 warn 的调用写法\n",
    "print(add(1, \"2\", 123, True))\n",
    "\n",
    "# 输出结果\n",
    "# ([0], ('2', '2', '2'), {'a': 123}, True)"
   ]
  },
  {
   "cell_type": "markdown",
   "metadata": {},
   "source": [
    "List、Set、Dict 的源码（参考原文图片），能大概猜到，它们底层跟 list、set、dict 有关系\n",
    "\n",
    "Tuple 的源码（参考原文图片），跟其他三个不太一样，但也是跟 tuple 有关系\n",
    "\n",
    "那指定类型的时候用 list、set、dict、tuple 可不可以呢？\n",
    "\n",
    "**可以是可以，但是不能指定里面元素数据类型**"
   ]
  },
  {
   "cell_type": "code",
   "execution_count": null,
   "metadata": {},
   "outputs": [],
   "source": [
    "def test(a: list, b: dict, c: set, d: tuple):\n",
    "    print(a, b, c, d)"
   ]
  },
  {
   "cell_type": "code",
   "execution_count": null,
   "metadata": {},
   "outputs": [],
   "source": [
    "# List[T]、Set[T] 只能传一个类型，传多个会报错\n",
    "\n",
    "from typing import List, Set\n",
    "a: List[int, str] = [1, \"2\"]\n",
    "b: Set[int, str] = {1, 2, 3}\n",
    "# List 传了太多参数，期望 1 个，实际 2 个"
   ]
  },
  {
   "cell_type": "code",
   "execution_count": null,
   "metadata": {},
   "outputs": [],
   "source": [
    "# 那 Tuple[T] 传多个会报错吗？\n",
    "d: Tuple[int, str] = (1, \"2\")\n",
    "print(d)\n",
    "\n",
    "'''\n",
    "# 输出结果\n",
    "(1, '2')\n",
    " 是不会报错的\n",
    "'''"
   ]
  },
  {
   "cell_type": "markdown",
   "metadata": {},
   "source": [
    "# 再来看看 Tuple[T] 的多种写法\n",
    "只写一个 int，赋值两个 int 元素会报 warning\n",
    "\n",
    "如果 Tuple[T] 指定类型数量和赋值的元素数量不一致呢？\n",
    "\n",
    "```py\n",
    "d: Tuple[int, str] = (1, \"2\", \"2\") \n",
    "```\n",
    "\n",
    "不会报错，但是也会有 warning\n",
    "\n",
    "综上两个例子子，得出结论\n",
    "Tuple[T] 指定一个类型的时候，仅针对同一个索引下的元素类型\n",
    "\n",
    "### 如果想像 List[T] 一样，指定一个类型，可以对所有元素生效呢\n",
    "```py\n",
    "d: Tuple[int, ...] = (1, 2, 3)\n",
    "d: Tuple[Dict[str, str], ...] = ({\"name\": \"poloyy\"}, {\"age\": \"33\"})\n",
    "```\n",
    "指定一个类型后，在后面加个 ... 就行"
   ]
  }
 ],
 "metadata": {
  "kernelspec": {
   "display_name": "Python 3.7.10 64-bit",
   "language": "python",
   "name": "python3"
  },
  "language_info": {
   "codemirror_mode": {
    "name": "ipython",
    "version": 3
   },
   "file_extension": ".py",
   "mimetype": "text/x-python",
   "name": "python",
   "nbconvert_exporter": "python",
   "pygments_lexer": "ipython3",
   "version": "3.7.10"
  },
  "orig_nbformat": 4,
  "vscode": {
   "interpreter": {
    "hash": "fd69f43f58546b570e94fd7eba7b65e6bcc7a5bbc4eab0408017d18902915d69"
   }
  }
 },
 "nbformat": 4,
 "nbformat_minor": 2
}
