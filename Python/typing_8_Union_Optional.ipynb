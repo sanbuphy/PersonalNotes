{
 "cells": [
  {
   "cell_type": "markdown",
   "metadata": {},
   "source": [
    "# Python - typing 模块 —— Optional \n",
    "## Union\n",
    "联合类型\n",
    "\n",
    "Union[int, str] 表示既可以是 int，也可以是 str"
   ]
  },
  {
   "cell_type": "code",
   "execution_count": null,
   "metadata": {},
   "outputs": [],
   "source": [
    "from typing import Union\n",
    "\n",
    "vars: Union[int, str]\n",
    "vars = 1\n",
    "print(vars)\n",
    "\n",
    "vars = \"123\"\n",
    "print(vars)\n",
    "\n",
    "vars = [] # 赋值列表会有warning， “Expect type Union[int, str], got list instead”\n",
    "\n",
    "# 等价写法\n",
    "vars: Union[int, str]\n",
    "# 等价于\n",
    "vars: [int or str]\n",
    "\n",
    "vars: Union[int]\n",
    "# 等价于\n",
    "vars: int\n",
    "\n",
    "Union[int] == int # 最终 Union[int] 返回的也是 int 类型\n",
    "Union[int, str, int] == Union[int, str] # 重复的类型参数会自动忽略掉\n",
    "Union[int, str] == Union[str, int] # 自动忽略类型参数顺序\n",
    "Union[Union[int, str], float] == Union[int, str, float] # union 嵌套 union 会自动解包"
   ]
  },
  {
   "cell_type": "markdown",
   "metadata": {},
   "source": [
    "\n",
    "# Python - typing 模块 —— Optional\n",
    "## Optional\n",
    "可选类型\n",
    "\n",
    "和默认参数有什么不一样\n",
    "* 官方原话：可选参数具有默认值，具有默认值的可选参数不需要在其类型批注上使用 Optional，因为它是可选的\n",
    "* 不过 Optional 和默认参数其实没啥实质上的区别，只是写法不同\n",
    "* 使用 Optional 是为了让 IDE 识别到该参数有一个类型提示，可以传指定的类型和 None，且参数是可选非必传的"
   ]
  },
  {
   "cell_type": "code",
   "execution_count": null,
   "metadata": {},
   "outputs": [],
   "source": [
    "# 可选参数\n",
    "def foo(arg: int = 0) -> None:\n",
    "    ...\n",
    "\n",
    "# 不传 arg 默认取 0\n",
    "foo()"
   ]
  },
  {
   "cell_type": "markdown",
   "metadata": {},
   "source": [
    "## 重点\n",
    "* Optional[int] 等价于 Union[int, None]\n",
    "* 意味着：既可以传指定的类型 int，也可以传 None"
   ]
  },
  {
   "cell_type": "code",
   "execution_count": null,
   "metadata": {},
   "outputs": [],
   "source": [
    "from typing import Optional\n",
    "def foo_func(arg: Optional[int] = None):\n",
    "    print(arg)\n",
    "\n",
    "foo_func()\n",
    "foo_func(1)"
   ]
  },
  {
   "cell_type": "markdown",
   "metadata": {},
   "source": [
    "## 重点\n",
    "Optional[] 里面只能写一个数据类型\n",
    "\n",
    "```py\n",
    "# 正确\n",
    "Optional[str]\n",
    "Optional[List[str]]\n",
    "Optional[Dict[str, Any]]\n",
    "\n",
    "# 错误\n",
    "Optional[str, int]\n",
    "Optional[Union[str, int, float]]\n",
    "```"
   ]
  }
 ],
 "metadata": {
  "kernelspec": {
   "display_name": "Python 3.7.10 64-bit",
   "language": "python",
   "name": "python3"
  },
  "language_info": {
   "codemirror_mode": {
    "name": "ipython",
    "version": 3
   },
   "file_extension": ".py",
   "mimetype": "text/x-python",
   "name": "python",
   "nbconvert_exporter": "python",
   "pygments_lexer": "ipython3",
   "version": "3.7.13"
  },
  "orig_nbformat": 4,
  "vscode": {
   "interpreter": {
    "hash": "fd69f43f58546b570e94fd7eba7b65e6bcc7a5bbc4eab0408017d18902915d69"
   }
  }
 },
 "nbformat": 4,
 "nbformat_minor": 2
}
