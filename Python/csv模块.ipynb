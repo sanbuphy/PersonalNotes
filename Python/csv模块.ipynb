{
 "cells": [
  {
   "cell_type": "markdown",
   "metadata": {},
   "source": [
    "[Python csv模块（读写文件）](http://c.biancheng.net/python_spider/csv-module.html)\n",
    "\n",
    "[Python操作CSV格式文件的方法大全](https://www.jb51.net/article/217415.htm)\n",
    "\n",
    "逗号分隔值（Comma-Separated Values，CSV，有时也称为字符分隔值，因为分隔字符也可以不是逗号），其文件以纯文本形式存储表格数据（数字和文本）。纯文本意味着该文件是一个字符序列，不含必须像二进制数字那样被解读的数据。CSV文件由任意数目的记录组成，记录间以某种换行符分隔；每条记录由字段组成，字段间的分隔符是其它字符或字符串，最常见的是逗号或制表符。通常，所有记录都有完全相同的字段序列。通常都是纯文本文件。建议使用WORDPAD或是记事本来开启，再则先另存新档后用EXCEL开启，也是方法之一。\n",
    "\n",
    "csv 模型不仅可以读写 csv文件，其他分隔符文件也能读取，比如 tsv（tab, 水平制表符不等于多个空格！）"
   ]
  },
  {
   "cell_type": "code",
   "execution_count": 31,
   "metadata": {},
   "outputs": [
    {
     "name": "stdout",
     "output_type": "stream",
     "text": [
      "['qid', 'text_a', 'text_b']\n",
      "['1', '刘德华的父亲是谁？', '']\n",
      "['4', '上海面积多大？', '']\n",
      "['4', '上海面积多大？', '']\n",
      "['4', '上海面积多大？', '']\n",
      "[Example(qid='1', text_a='刘德华的父亲是谁？', text_b=''), Example(qid='4', text_a='上海面积多大？', text_b=''), Example(qid='4', text_a='上海面积多大？', text_b=''), Example(qid='4', text_a='上海面积多大？', text_b='')]\n"
     ]
    }
   ],
   "source": [
    "import csv\n",
    "from collections import namedtuple\n",
    "def read_tsv(input_file, quotechar=None):\n",
    "    \"\"\"Reads a tab separated value file.\"\"\"\n",
    "    with open(input_file, \"r\") as f:\n",
    "        reader = csv.reader(f, delimiter=\"\\t\", quotechar=quotechar)\n",
    "        headers = next(reader)\n",
    "        print(headers)\n",
    "        Example = namedtuple('Example', headers)\n",
    "\n",
    "        examples = []\n",
    "        for line in reader:\n",
    "            try:\n",
    "                print(line)\n",
    "                example = Example(*line)\n",
    "            except Exception as e:\n",
    "                print(line)\n",
    "                raise e\n",
    "            examples.append(example)\n",
    "\n",
    "        return examples\n",
    "\n",
    "res = read_tsv(\"./test/dev.txt\")\n",
    "print(res)"
   ]
  },
  {
   "cell_type": "markdown",
   "metadata": {},
   "source": []
  }
 ],
 "metadata": {
  "kernelspec": {
   "display_name": "Python 3.7.14 64-bit",
   "language": "python",
   "name": "python3"
  },
  "language_info": {
   "codemirror_mode": {
    "name": "ipython",
    "version": 3
   },
   "file_extension": ".py",
   "mimetype": "text/x-python",
   "name": "python",
   "nbconvert_exporter": "python",
   "pygments_lexer": "ipython3",
   "version": "3.7.13"
  },
  "orig_nbformat": 4,
  "vscode": {
   "interpreter": {
    "hash": "767d51c1340bd893661ea55ea3124f6de3c7a262a8b4abca0554b478b1e2ff90"
   }
  }
 },
 "nbformat": 4,
 "nbformat_minor": 2
}
