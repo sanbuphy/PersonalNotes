{
 "cells": [
  {
   "cell_type": "markdown",
   "metadata": {},
   "source": [
    "[Python中 collections模块的详细用法介绍](https://blog.csdn.net/qdPython/article/details/120786550)\n",
    "\n",
    "[Python collections 模块](https://blog.csdn.net/python36/article/details/123985615)"
   ]
  }
 ],
 "metadata": {
  "language_info": {
   "name": "python"
  },
  "orig_nbformat": 4
 },
 "nbformat": 4,
 "nbformat_minor": 2
}
