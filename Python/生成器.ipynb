{
 "cells": [
  {
   "cell_type": "markdown",
   "metadata": {},
   "source": [
    "参考文章：[Python yeild 使用浅析](https://www.runoob.com/w3cnote/python-yield-used-analysis.html)\n",
    "\n",
    "您可能听说过，带有 yield 的函数在 Python 中被称之为 generator（生成器），何谓 generator ？\n",
    "\n",
    "我们先抛开 generator，以一个常见的编程题目来展示 yield 的概念。\n",
    "\n",
    "# 如何生成斐波那契數列\n",
    "斐波那契（Fibonacci）數列是一个非常简单的递归数列，除第一个和第二个数外，任意一个数都可由前两个数相加得到。\n",
    "用计算机程序输出斐波那契數列的前 N 个数是一个非常简单的问题，许多初学者都可以轻易写出如下函数：\n",
    "\n",
    "**清单 1. 简单输出斐波那契數列前 N 个数**"
   ]
  },
  {
   "cell_type": "code",
   "execution_count": null,
   "metadata": {},
   "outputs": [],
   "source": [
    "def fab(max): \n",
    "    n, a, b = 0, 0, 1 \n",
    "    while n < max: \n",
    "        print b \n",
    "        a, b = b, a + b \n",
    "        n = n + 1\n",
    "fab(5)"
   ]
  },
  {
   "cell_type": "markdown",
   "metadata": {},
   "source": [
    "结果没有问题，但有经验的开发者会指出，直接在 fab 函数中用 print 打印数字会导致该函数可复用性较差，\n",
    "因为 fab 函数返回 None，其他函数无法获得该函数生成的数列。\n",
    "要提高 fab 函数的可复用性，最好不要直接打印出数列，而是返回一个 List。以下是 fab 函数改写后的第二个版本：\n",
    "\n",
    "**清单 2. 输出斐波那契數列前 N 个数第二版**"
   ]
  },
  {
   "cell_type": "code",
   "execution_count": null,
   "metadata": {},
   "outputs": [],
   "source": [
    "def fab(max): \n",
    "    n, a, b = 0, 0, 1 \n",
    "    L = [] \n",
    "    while n < max: \n",
    "        L.append(b) \n",
    "        a, b = b, a + b \n",
    "        n = n + 1 \n",
    "    return L\n",
    " \n",
    "for n in fab(5): \n",
    "    print(n)"
   ]
  },
  {
   "cell_type": "markdown",
   "metadata": {},
   "source": [
    "改写后的 fab 函数通过返回 List 能满足复用性的要求.\n",
    "但是更有经验的开发者会指出，该函数在运行中占用的内存会随着参数 max 的增大而增大，\n",
    "如果要控制内存占用，最好不要用 List来保存中间结果，而是通过 iterable 对象来迭代。例如，在 Python2.x 中，代码：\n",
    "```py\n",
    "for i in range(1000): pass\n",
    "```\n",
    "会导致生成一个 1000 个元素的 List，而代码：\n",
    "```py\n",
    "for i in xrange(1000): pass\n",
    "```\n",
    "则不会生成一个 1000 个元素的 List，而是在每次迭代中返回下一个数值，内存空间占用很小。因为 xrange 不返回 List，而是返回一个 iterable 对象。\n",
    "利用 iterable 我们可以把 fab 函数改写为一个支持 iterable 的 class，以下是第三个版本的 Fab：\n",
    "\n",
    "**清单 3. 第三个版本**"
   ]
  },
  {
   "cell_type": "code",
   "execution_count": null,
   "metadata": {},
   "outputs": [],
   "source": [
    "class Fab(object): \n",
    "    def __init__(self, max): \n",
    "        self.max = max \n",
    "        self.n, self.a, self.b = 0, 0, 1 \n",
    " \n",
    "    def __iter__(self): \n",
    "        return self \n",
    " \n",
    "    def __next__(self): \n",
    "        if self.n < self.max: \n",
    "            r = self.b \n",
    "            self.a, self.b = self.b, self.a + self.b \n",
    "            self.n = self.n + 1 \n",
    "            return r \n",
    "        raise StopIteration()\n",
    " \n",
    "for n in Fab(5): \n",
    "    print(n)\n",
    "# Fab 类通过 next() 不断返回数列的下一个数，内存占用始终为常数"
   ]
  },
  {
   "cell_type": "markdown",
   "metadata": {},
   "source": [
    "然而，使用 class 改写的这个版本，代码远远没有第一版的 fab 函数来得简洁。如果我们想要保持第一版 fab 函数的简洁性，同时又要获得 iterable 的效果，yield 就派上用场了：\n",
    "\n",
    "**清单 4. 使用 yield 的第四版**"
   ]
  },
  {
   "cell_type": "code",
   "execution_count": null,
   "metadata": {},
   "outputs": [],
   "source": [
    "def fab(max): \n",
    "    n, a, b = 0, 0, 1 \n",
    "    while n < max: \n",
    "        yield b      # 使用 yield\n",
    "        # print(b) \n",
    "        a, b = b, a + b \n",
    "        n = n + 1\n",
    " \n",
    "for n in fab(5): \n",
    "    print(n)"
   ]
  },
  {
   "cell_type": "markdown",
   "metadata": {},
   "source": [
    "第四个版本的 fab 和第一版相比，仅仅把 print b 改为了 yield b，就在保持简洁性的同时获得了 iterable 的效果。\n",
    "调用第四版的 fab 和第二版的 fab 完全一致。\n",
    "\n",
    "简单地讲，yield 的作用就是把一个函数变成一个 generator，带有 yield 的函数不再是一个普通函数，Python 解释器会将其视为一个 generator，调用 fab(5) 不会执行 fab 函数，而是返回一个 **iterable 对象！**在 for 循环执行时，每次循环都会执行 fab 函数内部的代码，执行到 yield b 时，fab 函数就返回一个迭代值，下次迭代时，代码从 yield b 的下一条语句继续执行，而函数的本地变量看起来和上次中断执行前是完全一样的，于是函数继续执行，直到再次遇到 yield。\n",
    "\n",
    "也可以手动调用 fab(5) 的 next() 方法（因为 fab(5) 是一个 generator/iterable 对象，该对象具有 next() 方法），这样我们就可以更清楚地看到 fab 的执行流程："
   ]
  },
  {
   "cell_type": "code",
   "execution_count": null,
   "metadata": {},
   "outputs": [],
   "source": [
    "from collections import Iterable \n",
    "import types \n",
    "print(isinstance(fab(5), types.GeneratorType))\n",
    "print(isinstance(fab(5), Iterable))\n",
    "\n",
    "# fab(5)是一个 generator 对象，同时也是一个 iterable 对象。\n",
    "# next(f) 会去调用迭代器对象的 f.__next__()函数，所以两种写法一致\n",
    "f = fab(5)\n",
    "print(next(f))\n",
    "print(next(f))\n",
    "print(next(f))\n",
    "print(f.__next__())"
   ]
  },
  {
   "cell_type": "markdown",
   "metadata": {},
   "source": [
    "当函数执行结束时，generator 自动抛出 StopIteration 异常，表示迭代完成。在 for 循环里，无需处理 StopIteration 异常，循环会正常结束。\n",
    "\n",
    "**我们可以得出以下结论：**\n",
    "一个带有 yield 的函数就是一个 generator，它和普通函数不同，生成一个 generator 看起来像函数调用，但不会执行任何函数代码，直到对其调用 next()（在 for 循环中会自动调用 next()）才开始执行。虽然执行流程仍按函数的流程执行，但每执行到一个 yield 语句就会中断，并返回一个迭代值，下次执行时从 yield 的下一个语句继续执行。看起来就好像一个函数在正常执行的过程中被 yield 中断了数次，每次中断都会通过 yield 返回当前的迭代值。\n",
    "\n",
    "yield 的好处是显而易见的，把一个函数改写为一个 generator 就获得了迭代能力，比起用类的实例保存状态来计算下一个 next() 的值，不仅代码简洁，而且执行流程异常清晰。\n",
    "\n",
    "如何判断一个函数是否是一个特殊的 generator 函数？可以利用 isgeneratorfunction 判断：\n",
    "\n",
    "**清单 5. 使用 isgeneratorfunction 判断**"
   ]
  },
  {
   "cell_type": "code",
   "execution_count": null,
   "metadata": {},
   "outputs": [],
   "source": [
    "from inspect import isgeneratorfunction \n",
    "print(isgeneratorfunction(fab))\n",
    "print(isgeneratorfunction(fab(5)))\n",
    "# 要注意区分 fab 和 fab(5)，fab 是一个 generator function，而 fab(5) 是调用 fab 返回的一个 generator，好比类的定义和类的实例的区别：\n",
    "\n",
    "import types \n",
    "print(isinstance(fab, types.GeneratorType))\n",
    "print(isinstance(fab(5), types.GeneratorType))\n",
    "\n",
    "# fab 是无法迭代的，而 fab(5) 是可迭代的：\n",
    "from collections import Iterable \n",
    "print(isinstance(f, Iterable))\n",
    "print(isinstance(fab, Iterable))"
   ]
  },
  {
   "cell_type": "markdown",
   "metadata": {},
   "source": [
    "# return 的作用\n",
    "在一个 generator function 中，如果没有 return，则默认执行至函数完毕，如果在执行过程中 return，则直接抛出 StopIteration 终止迭代。\n",
    "\n",
    "# 另一个例子\n",
    "另一个 yield 的例子来源于文件读取。如果直接对文件对象调用 read() 方法，会导致不可预测的内存占用。好的方法是利用固定长度的缓冲区来不断读取文件内容。通过 yield，我们不再需要编写读文件的迭代类，就可以轻松实现文件读取：\n",
    "\n",
    "**清单 6. 另一个 yield 的例子**\n",
    "```py\n",
    "def read_file(fpath): \n",
    "    BLOCK_SIZE = 1024 \n",
    "    with open(fpath, 'rb') as f: \n",
    "        while True: \n",
    "            block = f.read(BLOCK_SIZE) \n",
    "            if block: \n",
    "                yield block \n",
    "            else: \n",
    "                return\n",
    "```"
   ]
  }
 ],
 "metadata": {
  "kernelspec": {
   "display_name": "Python 3.9.12 64-bit",
   "language": "python",
   "name": "python3"
  },
  "language_info": {
   "codemirror_mode": {
    "name": "ipython",
    "version": 3
   },
   "file_extension": ".py",
   "mimetype": "text/x-python",
   "name": "python",
   "nbconvert_exporter": "python",
   "pygments_lexer": "ipython3",
   "version": "3.9.12"
  },
  "orig_nbformat": 4,
  "vscode": {
   "interpreter": {
    "hash": "36cf16204b8548560b1c020c4e8fb5b57f0e4c58016f52f2d4be01e192833930"
   }
  }
 },
 "nbformat": 4,
 "nbformat_minor": 2
}
