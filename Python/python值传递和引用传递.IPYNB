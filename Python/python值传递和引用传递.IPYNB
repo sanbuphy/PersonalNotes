{
 "cells": [
  {
   "cell_type": "code",
   "execution_count": null,
   "metadata": {},
   "outputs": [],
   "source": [
    "[Python值传递和引用传递（详细分析）](https://blog.csdn.net/weixin_47614014/article/details/125007538)"
   ]
  }
 ],
 "metadata": {
  "language_info": {
   "name": "python"
  },
  "orig_nbformat": 4
 },
 "nbformat": 4,
 "nbformat_minor": 2
}
