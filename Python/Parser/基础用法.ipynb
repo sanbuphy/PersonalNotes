{
 "cells": [
  {
   "cell_type": "code",
   "execution_count": null,
   "metadata": {},
   "outputs": [],
   "source": [
    "'''\n",
    "基础用法, 参考官方文档\n",
    "[argparse --- 命令行选项、参数和子命令解析器](https://docs.python.org/zh-cn/3.7/library/argparse.html?highlight=parse_known_args#)\n",
    "'''\n",
    "# 导入库\n",
    "import argparse\n",
    " \n",
    "# 1. 定义命令行解析器对象\n",
    "parser = argparse.ArgumentParser(description='Demo of argparse')\n",
    " \n",
    "# 2. 添加命令行参数\n",
    "parser.add_argument('--epochs', type=int, default=30, help=\"set epochs\")\n",
    "parser.add_argument('--batch', type=int, default=4, help=\"set batch\")\n",
    "\n",
    "# 3. 通过字符串列表的方式传入参数，作用与命令行完全一致\n",
    "args = parser.parse_args([\"--epochs=1\", \"--batch=1\"])\n",
    "print(args)\n",
    "# 当缩写没有歧义时，也可以使用缩写，参数缩写（前缀匹配）\n",
    "args = parser.parse_args([\"--e=2\", \"--b=2\"])\n",
    "print(args)\n",
    "\n",
    "# 当传入未知参数时，则会报错\n",
    "# args = parser.parse_args([\"--epochs=1\", \"--batch=1\", \"--max=1\"])\n",
    "\n",
    "# 使用 parse_known_args，这样传入未知参数时，也不会报错，参数分成了两部分,其中包含带成员的命名空间和剩余参数字符串的列表。\n",
    "args = parser.parse_known_args([\"--epochs=1\", \"--batch=1\", \"--max=1\"])\n",
    "print(args)"
   ]
  },
  {
   "cell_type": "code",
   "execution_count": null,
   "metadata": {},
   "outputs": [],
   "source": [
    "'''\n",
    "add_argument_group\n",
    "'''\n",
    "import argparse\n",
    " \n",
    "parser = argparse.ArgumentParser(description='Demo of argparse')\n",
    " \n",
    "parser.add_argument('--epochs', type=int, default=30, help=\"set epochs\")\n",
    "parser.add_argument('--batch', type=int, default=4, help=\"set batch\")\n",
    "\n",
    "\n",
    "# 在默认情况下，ArgumentParser 会在显示帮助消息时将命令行参数分为“位置参数”和“可选参数”两组。 当存在比默认更好的参数分组概念时，\n",
    "# 可以使用 add_argument_group() 方法来创建适当的分组:当一个参数被加入分组时，解析器会将它视为一个正常的参数，但是会在不同的帮助消息分组中显示该参数.\n",
    "group1 = parser.add_argument_group('group1', \"group1 description\")\n",
    "group2 = parser.add_argument_group('group2', \"group2 description\")\n",
    "group1.add_argument(\"--g1_argument\", type=int, default=1)\n",
    "group2.add_argument(\"--g2_argument\", type=int, default=1)\n",
    "\n",
    "# 使用上没有任何差异\n",
    "args = parser.parse_args([\"--g1_argument=1\", \"--g2_argument=2\"])\n",
    "print(args)\n"
   ]
  },
  {
   "cell_type": "code",
   "execution_count": null,
   "metadata": {},
   "outputs": [],
   "source": []
  }
 ],
 "metadata": {
  "kernelspec": {
   "display_name": "Python 3.7.13 64-bit",
   "language": "python",
   "name": "python3"
  },
  "language_info": {
   "codemirror_mode": {
    "name": "ipython",
    "version": 3
   },
   "file_extension": ".py",
   "mimetype": "text/x-python",
   "name": "python",
   "nbconvert_exporter": "python",
   "pygments_lexer": "ipython3",
   "version": "3.7.13"
  },
  "orig_nbformat": 4,
  "vscode": {
   "interpreter": {
    "hash": "767d51c1340bd893661ea55ea3124f6de3c7a262a8b4abca0554b478b1e2ff90"
   }
  }
 },
 "nbformat": 4,
 "nbformat_minor": 2
}
