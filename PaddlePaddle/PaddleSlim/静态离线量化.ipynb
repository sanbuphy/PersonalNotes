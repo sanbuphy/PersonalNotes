{
 "cells": [
  {
   "cell_type": "markdown",
   "metadata": {},
   "source": [
    "参考官方文档：\n",
    "[离线量化](https://paddleslim.readthedocs.io/zh_CN/latest/quick_start/static/quant_post_static_tutorial.html)\n",
    "\n",
    "# 量化\n",
    "模型量化包含三种量化方法，分别是动态离线量化方法、静态离线量化方法和量化训练方法。\n",
    "\n",
    "下图展示了如何选择模型量化方法。\n",
    "![](https://user-images.githubusercontent.com/52520497/83991261-cbe55800-a97e-11ea-880c-d83fb7924454.png)"
   ]
  },
  {
   "cell_type": "code",
   "execution_count": null,
   "metadata": {},
   "outputs": [],
   "source": [
    "# 1. 导入依赖\n",
    "\n",
    "import paddle\n",
    "import paddleslim as slim\n",
    "import numpy as np\n",
    "paddle.enable_static()\n",
    "\n",
    "# 2. 构建网络\n",
    "'''\n",
    "构造一个用于对MNIST数据进行分类的分类模型，\n",
    "选用MobileNetV1，并将输入大小设置为[1, 28, 28]，输出类别数为10。\n",
    "为了方便展示示例，我们在paddleslim.models下预定义了用于构建分类模型的方法，执行以下代码构建分类模型：\n",
    "'''\n",
    "USE_GPU = False\n",
    "model = slim.models.MobileNet()\n",
    "train_program = paddle.static.Program()\n",
    "startup = paddle.static.Program()\n",
    "with paddle.static.program_guard(train_program, startup):\n",
    "    image = paddle.static.data(\n",
    "        name='image', shape=[None, 1, 28, 28], dtype='float32')\n",
    "    label = paddle.static.data(name='label', shape=[None, 1], dtype='int64')\n",
    "    gt = paddle.reshape(label, [-1, 1])\n",
    "    out = model.net(input=image, class_dim=10)\n",
    "    cost = paddle.nn.functional.loss.cross_entropy(input=out, label=gt)\n",
    "    avg_cost = paddle.mean(x=cost)\n",
    "    acc_top1 = paddle.metric.accuracy(input=out, label=gt, k=1)\n",
    "    acc_top5 = paddle.metric.accuracy(input=out, label=gt, k=5)\n",
    "    opt = paddle.optimizer.Momentum(0.01, 0.9)\n",
    "    opt.minimize(avg_cost)\n",
    "\n",
    "place = paddle.CUDAPlace(0) if USE_GPU else paddle.CPUPlace()\n",
    "exe = paddle.static.Executor(place)\n",
    "exe.run(startup)\n",
    "val_program = train_program.clone(for_test=True)\n",
    "\n",
    "# 3. 训练模型\n",
    "import paddle.vision.transforms as T\n",
    "transform = T.Compose([T.Transpose(), T.Normalize([127.5], [127.5])])\n",
    "train_dataset = paddle.vision.datasets.MNIST(\n",
    "    mode=\"train\", backend=\"cv2\", transform=transform)\n",
    "test_dataset = paddle.vision.datasets.MNIST(\n",
    "    mode=\"test\", backend=\"cv2\", transform=transform)\n",
    "train_loader = paddle.io.DataLoader(\n",
    "    train_dataset,\n",
    "    places=place,\n",
    "    feed_list=[image, label],\n",
    "    drop_last=True,\n",
    "    batch_size=64,\n",
    "    return_list=False,\n",
    "    shuffle=True)\n",
    "test_loader = paddle.io.DataLoader(\n",
    "    test_dataset,\n",
    "    places=place,\n",
    "    feed_list=[image, label],\n",
    "    drop_last=True,\n",
    "    batch_size=64,\n",
    "    return_list=False,\n",
    "    shuffle=False)\n",
    "\n",
    "outputs = [acc_top1.name, acc_top5.name, avg_cost.name]\n",
    "def train(prog):\n",
    "    iter = 0\n",
    "    for data in train_loader():\n",
    "        acc1, acc5, loss = exe.run(prog, feed=data, fetch_list=outputs)\n",
    "        if iter % 100 == 0:\n",
    "            print('train iter={}, top1={}, top5={}, loss={}'.format(iter, acc1.mean(), acc5.mean(), loss.mean()))\n",
    "        iter += 1\n",
    "\n",
    "def test(prog, outputs=outputs):\n",
    "    iter = 0\n",
    "    res = [[], []]\n",
    "    for data in test_loader():\n",
    "        acc1, acc5, loss = exe.run(prog, feed=data, fetch_list=outputs)\n",
    "        if iter % 100 == 0:\n",
    "            print('test iter={}, top1={}, top5={}, loss={}'.format(iter, acc1.mean(), acc5.mean(), loss.mean()))\n",
    "        res[0].append(acc1.mean())\n",
    "        res[1].append(acc5.mean())\n",
    "        iter += 1\n",
    "    print('final test result', np.array(res[0]).mean(), np.array(res[1]).mean())"
   ]
  },
  {
   "cell_type": "code",
   "execution_count": null,
   "metadata": {},
   "outputs": [],
   "source": [
    "train(train_program)\n",
    "test(val_program)\n"
   ]
  },
  {
   "cell_type": "code",
   "execution_count": null,
   "metadata": {},
   "outputs": [],
   "source": [
    "# 4. 保存模型\n",
    "paddle.static.save_inference_model(\n",
    "        path_prefix='./inference_model/fp32',\n",
    "        feed_vars=[image, label],\n",
    "        fetch_vars=[acc_top1, acc_top5, avg_cost],\n",
    "        executor=exe,\n",
    "        program=val_program)"
   ]
  },
  {
   "cell_type": "code",
   "execution_count": null,
   "metadata": {},
   "outputs": [],
   "source": [
    "# 5. 静态离线量化\n",
    "slim.quant.quant_post_static(\n",
    "        executor=exe,\n",
    "        model_dir='./inference_model',\n",
    "        quantize_model_path='./quant_post_static_model',\n",
    "        sample_generator=paddle.dataset.mnist.test(),\n",
    "        model_filename='fp32.pdmodel',\n",
    "        params_filename='fp32.pdiparams',\n",
    "        batch_nums=10)\n"
   ]
  }
 ],
 "metadata": {
  "kernelspec": {
   "display_name": "Python 3.7.13 64-bit",
   "language": "python",
   "name": "python3"
  },
  "language_info": {
   "codemirror_mode": {
    "name": "ipython",
    "version": 3
   },
   "file_extension": ".py",
   "mimetype": "text/x-python",
   "name": "python",
   "nbconvert_exporter": "python",
   "pygments_lexer": "ipython3",
   "version": "3.7.13"
  },
  "orig_nbformat": 4,
  "vscode": {
   "interpreter": {
    "hash": "767d51c1340bd893661ea55ea3124f6de3c7a262a8b4abca0554b478b1e2ff90"
   }
  }
 },
 "nbformat": 4,
 "nbformat_minor": 2
}
