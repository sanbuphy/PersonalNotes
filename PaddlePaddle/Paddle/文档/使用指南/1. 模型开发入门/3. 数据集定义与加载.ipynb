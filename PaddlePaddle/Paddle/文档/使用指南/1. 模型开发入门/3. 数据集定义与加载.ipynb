{
 "cells": [
  {
   "cell_type": "code",
   "execution_count": 10,
   "metadata": {},
   "outputs": [
    {
     "name": "stdout",
     "output_type": "stream",
     "text": [
      "train_custom_dataset images:  60000 test_custom_dataset images:  10000\n",
      "shape of image:  (1, 28, 28)\n"
     ]
    },
    {
     "data": {
      "text/plain": [
       "<matplotlib.image.AxesImage at 0x7f7940530610>"
      ]
     },
     "execution_count": 10,
     "metadata": {},
     "output_type": "execute_result"
    },
    {
     "data": {
      "image/png": "[encoded data removed]",
      "text/plain": [
       "<Figure size 640x480 with 1 Axes>"
      ]
     },
     "metadata": {},
     "output_type": "display_data"
    }
   ],
   "source": [
    "# 一、定义数据集\n",
    "## 1.1 直接加载内置数据集\n",
    "\n",
    "## 1.2 使用 paddle.io.Dataset 自定义数据集\n",
    "\n",
    "'''\n",
    "在实际的场景中，一般需要使用自有的数据来定义数据集，这时可以通过 paddle.io.Dataset 基类来实现自定义数据集。\n",
    "\n",
    "可构建一个子类继承自 paddle.io.Dataset ，并且实现下面的三个函数：\n",
    "\n",
    "__init__：完成数据集初始化操作，将磁盘中的样本文件路径和对应标签映射到一个列表中。\n",
    "\n",
    "__getitem__：定义指定索引（index）时如何获取样本数据，最终返回对应 index 的单条数据（样本数据、对应的标签）。\n",
    "\n",
    "__len__：返回数据集的样本总数。\n",
    "\n",
    "注：\n",
    "__getitem__ 函数的意义： 它类似 c++ 中的 [] 运算符重载，因此可以使得 Dataset 表现得像一个可以根据下标索引的序列容器，或者根据 key 索引的 map 容器。\n",
    "__len__： 当对一个Dataset 类实例进行 len() 操作时，便会去调用 __len__ 函数\n",
    "'''\n",
    "\n",
    "\n",
    "\n",
    "# 下载原始的 MNIST 数据集并解压\n",
    "# ! wget https://paddle-imagenet-models-name.bj.bcebos.com/data/mnist.tar\n",
    "# ! tar -xf mnist.tar\n",
    "\n",
    "import os\n",
    "import cv2\n",
    "import numpy as np\n",
    "from paddle.io import Dataset\n",
    "from paddle.vision.transforms import Normalize\n",
    "\n",
    "class MyDataset(Dataset):\n",
    "    \"\"\"\n",
    "    步骤一：继承 paddle.io.Dataset 类\n",
    "    \"\"\"\n",
    "    def __init__(self, data_dir, label_path, transform=None):\n",
    "        \"\"\"\n",
    "        步骤二：实现 __init__ 函数，初始化数据集，将样本和标签映射到列表中\n",
    "        \"\"\"\n",
    "        super(MyDataset, self).__init__()\n",
    "        self.data_list = []\n",
    "        with open(label_path,encoding='utf-8') as f:\n",
    "            for line in f.readlines():\n",
    "                image_path, label = line.strip().split('\\t')\n",
    "                image_path = os.path.join(data_dir, image_path)\n",
    "                self.data_list.append([image_path, label])\n",
    "        # 传入定义好的数据处理方法，作为自定义数据集类的一个属性\n",
    "        self.transform = transform\n",
    "\n",
    "    def __getitem__(self, index):\n",
    "        \"\"\"\n",
    "        步骤三：实现 __getitem__ 函数，定义指定 index 时如何获取数据，并返回单条数据（样本数据、对应的标签）\n",
    "        \"\"\"\n",
    "        # print(\"call __getitem__\")\n",
    "        # 根据索引，从列表中取出一个图像\n",
    "        image_path, label = self.data_list[index]\n",
    "        # 读取灰度图\n",
    "        image = cv2.imread(image_path, cv2.IMREAD_GRAYSCALE)\n",
    "        # 飞桨训练时内部数据格式默认为float32，将图像数据格式转换为 float32\n",
    "        image = image.astype('float32')\n",
    "        # 应用数据处理方法到图像上\n",
    "        if self.transform is not None:\n",
    "            image = self.transform(image)\n",
    "        # CrossEntropyLoss要求label格式为int，将Label格式转换为 int\n",
    "        label = int(label)\n",
    "        # 返回图像和对应标签\n",
    "        return image, label\n",
    "\n",
    "    def __len__(self):\n",
    "        \"\"\"\n",
    "        步骤四：实现 __len__ 函数，返回数据集的样本总数\n",
    "        \"\"\"\n",
    "        # print(\"call __len__\")\n",
    "        return len(self.data_list)\n",
    "\n",
    "# 定义图像归一化处理方法，这里的CHW指图像格式需为 [C通道数，H图像高度，W图像宽度]\n",
    "transform = Normalize(mean=[127.5], std=[127.5], data_format='CHW')\n",
    "# 打印数据集样本数        \n",
    "train_custom_dataset = MyDataset('mnist/train','mnist/train/label.txt', transform)\n",
    "test_custom_dataset = MyDataset('mnist/val','mnist/val/label.txt', transform)\n",
    "print('train_custom_dataset images: ',len(train_custom_dataset), 'test_custom_dataset images: ',len(test_custom_dataset)) # len() 函数会去调用 __len__ 函数\n",
    "\n",
    "\n",
    "from matplotlib import pyplot as plt\n",
    "image, label = train_custom_dataset[0] # [0] 会去调用 __getitem__ 函数\n",
    "print('shape of image: ',image.shape)\n",
    "plt.title(str(label))\n",
    "plt.imshow(image[0])    \n"
   ]
  },
  {
   "cell_type": "code",
   "execution_count": 14,
   "metadata": {},
   "outputs": [
    {
     "name": "stdout",
     "output_type": "stream",
     "text": [
      "batch_id: 0, 训练数据shape: [64, 1, 28, 28], 标签数据shape: [64]\n",
      "BatchSampler 每轮迭代返回一个索引列表\n",
      "[51553, 50547, 29783, 55484, 6270, 3270, 22195, 33774]\n",
      "在 DataLoader 中使用 BatchSampler，返回索引对应的一组样本和标签数据 \n",
      "batch_id: 0, 训练数据shape: [8, 1, 28, 28], 标签数据shape: [8]\n"
     ]
    }
   ],
   "source": [
    "# 二、迭代读取数据集\n",
    "## 2.1 使用 paddle.io.DataLoader 定义数据读取器\n",
    "\n",
    "import paddle\n",
    "# 定义并初始化数据读取器\n",
    "train_loader = paddle.io.DataLoader(train_custom_dataset, batch_size=64, shuffle=True, num_workers=3, drop_last=True)\n",
    "\n",
    "# 调用 DataLoader 迭代读取数据\n",
    "for batch_id, data in enumerate(train_loader()):\n",
    "    images, labels = data\n",
    "    print(\"batch_id: {}, 训练数据shape: {}, 标签数据shape: {}\".format(batch_id, images.shape, labels.shape))\n",
    "    break\n",
    "\n",
    "## 2.2 （可选）自定义采样器\n",
    "from paddle.io import BatchSampler\n",
    "\n",
    "# 定义一个批采样器，并设置采样的数据集源、采样批大小、是否乱序等\n",
    "bs = BatchSampler(train_custom_dataset, batch_size=8, shuffle=True, drop_last=True)\n",
    "\n",
    "print(\"BatchSampler 每轮迭代返回一个索引列表\")\n",
    "for batch_indices in bs:\n",
    "    print(batch_indices)\n",
    "    break\n",
    "\n",
    "# 在 DataLoader 中使用 BatchSampler 获取采样数据 \n",
    "'''\n",
    "数据读取器 train_loader 通过 batch_sampler=bs 字段传入批采样器，即可根据这些索引获取对应的一组样本数据。\n",
    "另外可以看到，batch_size、shuffle、drop_last这三个参数只在 BatchSampler 中设定。  \n",
    "'''\n",
    "train_loader = paddle.io.DataLoader(train_custom_dataset, batch_sampler=bs, num_workers=1)\n",
    "\n",
    "print(\"在 DataLoader 中使用 BatchSampler，返回索引对应的一组样本和标签数据 \")\n",
    "for batch_id, data in enumerate(train_loader()):\n",
    "    images, labels = data\n",
    "    print(\"batch_id: {}, 训练数据shape: {}, 标签数据shape: {}\".format(batch_id, images.shape, labels.shape))\n",
    "    break\n"
   ]
  },
  {
   "cell_type": "code",
   "execution_count": 17,
   "metadata": {},
   "outputs": [
    {
     "name": "stdout",
     "output_type": "stream",
     "text": [
      "-----------------顺序采样----------------\n",
      "[0, 1, 2, 3, 4, 5, 6, 7, 8, 9]\n",
      "[10, 11, 12, 13, 14, 15, 16, 17, 18, 19]\n",
      "[20, 21, 22, 23, 24, 25, 26, 27, 28, 29]\n",
      "[30, 31, 32, 33, 34, 35, 36, 37, 38, 39]\n",
      "[40, 41, 42, 43, 44, 45, 46, 47, 48, 49]\n",
      "[50, 51, 52, 53, 54, 55, 56, 57, 58, 59]\n",
      "[60, 61, 62, 63, 64, 65, 66, 67, 68, 69]\n",
      "[70, 71, 72, 73, 74, 75, 76, 77, 78, 79]\n",
      "[80, 81, 82, 83, 84, 85, 86, 87, 88, 89]\n",
      "[90, 91, 92, 93, 94, 95, 96, 97, 98, 99]\n",
      "-----------------随机采样----------------\n",
      "[48, 25, 50, 10, 66, 31, 3, 79, 78, 13]\n",
      "[18, 85, 27, 88, 81, 93, 11, 21, 68, 44]\n",
      "[38, 96, 55, 5, 65, 57, 97, 32, 91, 46]\n",
      "[49, 64, 6, 83, 86, 42, 24, 67, 47, 23]\n",
      "[39, 17, 0, 84, 76, 71, 72, 43, 87, 34]\n",
      "[98, 9, 40, 37, 14, 16, 12, 4, 7, 58]\n",
      "[15, 95, 54, 99, 19, 29, 89, 36, 90, 77]\n",
      "[70, 1, 35, 94, 45, 53, 74, 69, 26, 30]\n",
      "[56, 41, 80, 75, 28, 33, 20, 60, 63, 59]\n",
      "[73, 82, 61, 92, 22, 62, 51, 52, 2, 8]\n",
      "-----------------分布式采样----------------\n",
      "[0, 1, 2, 3, 4, 5, 6, 7, 8, 9]\n",
      "[20, 21, 22, 23, 24, 25, 26, 27, 28, 29]\n",
      "[40, 41, 42, 43, 44, 45, 46, 47, 48, 49]\n",
      "[60, 61, 62, 63, 64, 65, 66, 67, 68, 69]\n",
      "[80, 81, 82, 83, 84, 85, 86, 87, 88, 89]\n"
     ]
    }
   ],
   "source": [
    "# 对比几个不同采样器的采样行为\n",
    "from paddle.io import SequenceSampler, RandomSampler, BatchSampler, DistributedBatchSampler\n",
    "\n",
    "class RandomDataset(paddle.io.Dataset):\n",
    "    def __init__(self, num_samples):\n",
    "        self.num_samples = num_samples\n",
    "\n",
    "    def __getitem__(self, idx):\n",
    "        image = np.random.random([784]).astype('float32')\n",
    "        label = np.random.randint(0, 9, (1, )).astype('int64')\n",
    "        return image, label\n",
    "\n",
    "    def __len__(self):\n",
    "        return self.num_samples\n",
    "    \n",
    "train_dataset = RandomDataset(100)\n",
    "\n",
    "print('-----------------顺序采样----------------')\n",
    "sampler = SequenceSampler(train_dataset)\n",
    "batch_sampler = BatchSampler(sampler=sampler, batch_size=10)\n",
    "\n",
    "for index in batch_sampler:\n",
    "    print(index)\n",
    "    \n",
    "print('-----------------随机采样----------------')\n",
    "sampler = RandomSampler(train_dataset)\n",
    "batch_sampler = BatchSampler(sampler=sampler, batch_size=10)\n",
    "\n",
    "for index in batch_sampler:\n",
    "    print(index)\n",
    "\n",
    "print('-----------------分布式采样----------------')\n",
    "batch_sampler = DistributedBatchSampler(train_dataset, num_replicas=2, batch_size=10)\n",
    "\n",
    "for index in batch_sampler:\n",
    "    print(index)\n"
   ]
  }
 ],
 "metadata": {
  "kernelspec": {
   "display_name": "Python 3.7.14 64-bit",
   "language": "python",
   "name": "python3"
  },
  "language_info": {
   "codemirror_mode": {
    "name": "ipython",
    "version": 3
   },
   "file_extension": ".py",
   "mimetype": "text/x-python",
   "name": "python",
   "nbconvert_exporter": "python",
   "pygments_lexer": "ipython3",
   "version": "3.7.13"
  },
  "orig_nbformat": 4,
  "vscode": {
   "interpreter": {
    "hash": "767d51c1340bd893661ea55ea3124f6de3c7a262a8b4abca0554b478b1e2ff90"
   }
  }
 },
 "nbformat": 4,
 "nbformat_minor": 2
}
